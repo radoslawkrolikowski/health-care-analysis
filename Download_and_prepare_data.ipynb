{
 "cells": [
  {
   "cell_type": "markdown",
   "metadata": {},
   "source": [
    "### Download and prepare data"
   ]
  },
  {
   "cell_type": "markdown",
   "metadata": {},
   "source": [
    "In this notebook, we are going to download the data that is required to conduct the analysis of the health facilities accessibility. The data includes the following:\n",
    "- Administrative boundaries of a country at level 2 (second sub-national level) from the <i>GADM Database of Global Administrative Areas</i>\n",
    "- Health care location data from <i>healthsites.io</i>\n",
    "- Distribution of the population as the spatial raster dataset from <i>European Commission Global Human Settlement GHS-POP dataset </i>\n",
    "\n",
    "Subsequently, the health facilities dataset will be filtered in terms of the distances between particular locations, decreasing the total number and density of health facilities. Next step is to clip the World population dataset raster to the boundaries corresponding to the country of interest and reproject it to EPSG:4326 coordinate system. If we would like to use the <i>OSMNX</i> library to compute the isolines of accessibility, then we have to create the Graphml object using one of the three approaches: \n",
    "- Convert shapefile to OSM format using <i>ogr2osm</i>, then create Graphml file with <i>ox.graph_from_xml()</i>\n",
    "- Create Graphml from OSM using <i>ox.graph_from_xml()</i>\n",
    "- Use <i>ox.graph_from_place()</i> method to download data from <i>Overpass API</i> and create Graphml object\n",
    "\n",
    "The process of creating a Graphml object can take up to several hours!"
   ]
  },
  {
   "cell_type": "markdown",
   "metadata": {},
   "source": [
    "Data is going to be stored in a folder structure according to the following template:\n",
    "\n",
    "{Country_name}/<br>\n",
    "&ensp;&ensp;&ensp;&ensp;&ensp;&ensp;├── Administrative_boundaries/<br>\n",
    "&ensp;&ensp;&ensp;&ensp;&ensp;&ensp;├── Health_facilities/<br>\n",
    "&ensp;&ensp;&ensp;&ensp;&ensp;&ensp;├── Population/<br>\n",
    "&ensp;&ensp;&ensp;&ensp;&ensp;&ensp;└── Roads/<br>\n"
   ]
  },
  {
   "cell_type": "markdown",
   "metadata": {},
   "source": [
    "We will begin with importing all indispensable libraries that will be used in this notebook."
   ]
  },
  {
   "cell_type": "code",
   "execution_count": 1,
   "metadata": {},
   "outputs": [],
   "source": [
    "import osmnx as ox\n",
    "import subprocess\n",
    "import geopandas as gpd\n",
    "from geopy.geocoders import Nominatim\n",
    "from geopy.extra.rate_limiter import RateLimiter\n",
    "from shapely.geometry import box\n",
    "import json\n",
    "import rasterio\n",
    "from rasterio.plot import show\n",
    "from rasterio.mask import mask\n",
    "import pycrs\n",
    "import ipywidgets as widgets\n",
    "from IPython.display import display\n",
    "import os\n",
    "import urllib\n",
    "from urllib.error import HTTPError\n",
    "from zipfile import ZipFile\n",
    "from utilities import country_codes"
   ]
  },
  {
   "cell_type": "markdown",
   "metadata": {},
   "source": [
    "Now we can execute the code in the following cell and chose the country of interest from the drop-down list. If the desired country isn't included in the list, it means that there is no available data for that country."
   ]
  },
  {
   "cell_type": "code",
   "execution_count": 2,
   "metadata": {},
   "outputs": [
    {
     "data": {
      "application/vnd.jupyter.widget-view+json": {
       "model_id": "6c161ca2a8c24a298f77cc72e8c76269",
       "version_major": 2,
       "version_minor": 0
      },
      "text/plain": [
       "Dropdown(description='Country:', options=('Afghanistan', 'Albania', 'Algeria', 'Andorra', 'Angola', 'Anguilla'…"
      ]
     },
     "metadata": {},
     "output_type": "display_data"
    }
   ],
   "source": [
    "country_list = widgets.Dropdown(\n",
    "    options=list(country_codes.keys()),\n",
    "    description='Country:',\n",
    "    disabled=False,\n",
    ")\n",
    "\n",
    "display(country_list)"
   ]
  },
  {
   "cell_type": "markdown",
   "metadata": {},
   "source": [
    "#### Administrative boundaries level 2"
   ]
  },
  {
   "cell_type": "markdown",
   "metadata": {},
   "source": [
    "To find the administrative boundaries of the specified country in <i>GADM</i> database we have to provide its <i>ISO 3166 alpha-3</i> code to the request URL. You can read more about the aforementioned codes under the following link: https://en.wikipedia.org/wiki/ISO_3166-1_alpha-3"
   ]
  },
  {
   "cell_type": "code",
   "execution_count": 3,
   "metadata": {},
   "outputs": [],
   "source": [
    "country_alpha3_code = country_codes.get(country_list.value)"
   ]
  },
  {
   "cell_type": "markdown",
   "metadata": {},
   "source": [
    "Now we will create the directory structure for the chosen country."
   ]
  },
  {
   "cell_type": "code",
   "execution_count": 4,
   "metadata": {},
   "outputs": [],
   "source": [
    "# Create directory structure for given country\n",
    "if not os.path.exists(country_list.value):\n",
    "    for sub_dir in [\"Administrative_boundaries\", \"Health_facilities\", \"Roads\", \"Population\"]:\n",
    "        try:\n",
    "            os.makedirs(os.path.join(country_list.value, sub_dir))\n",
    "        except OSError as message:\n",
    "            print(message)"
   ]
  },
  {
   "cell_type": "markdown",
   "metadata": {},
   "source": [
    "Below we will download ZIP file containing Geopackage file of the administrative boundaries and extract it to the <i>{Country_name}/Administrative_boundaries</i> directory."
   ]
  },
  {
   "cell_type": "code",
   "execution_count": 5,
   "metadata": {},
   "outputs": [],
   "source": [
    "adm_bound_file_name = \"gadm36_\" + country_alpha3_code + \"_gpkg.zip\"\n",
    "adm_bound_file_path = os.path.join(country_list.value, \"Administrative_boundaries\", adm_bound_file_name)\n",
    "\n",
    "if not os.path.exists(adm_bound_file_path):\n",
    "    try:\n",
    "        # Download administrative boundaries Geopackage file from https://gadm.org\n",
    "        url = \"https://biogeo.ucdavis.edu/data/gadm3.6/gpkg/\" + adm_bound_file_name\n",
    "        urllib.request.urlretrieve(url, adm_bound_file_path)\n",
    "\n",
    "        with ZipFile(adm_bound_file_path, 'r') as zip_ref:\n",
    "           # Extract all the contents of zip file\n",
    "           zip_ref.extractall(os.path.join(country_list.value, \"Administrative_boundaries\"))\n",
    "            \n",
    "        print(\"Download of \" + adm_bound_file_name + \" completed.\")\n",
    "            \n",
    "    except HTTPError as error:\n",
    "        print(error)"
   ]
  },
  {
   "cell_type": "markdown",
   "metadata": {},
   "source": [
    "#### Health facilities"
   ]
  },
  {
   "cell_type": "markdown",
   "metadata": {},
   "source": [
    "Now we will download the health facilities data as a ZIP file from the <i>healthsites.io</i> API, then this file will be extracted directly to <i>{Country_name}/Health_facilities</i> directory."
   ]
  },
  {
   "cell_type": "code",
   "execution_count": 4,
   "metadata": {},
   "outputs": [],
   "source": [
    "health_fac_file_name = country_list.value + \".zip\"\n",
    "health_fac_file_path = os.path.join(country_list.value, \"Health_facilities\", health_fac_file_name)\n",
    "\n",
    "if not os.path.exists(health_fac_file_path):\n",
    "    try:\n",
    "        # Download Health facilities shapefile from healthsites.io API\n",
    "        url = \"https://healthsites.io/api/v2/facilities/shapefile/{}/download\".format(country_list.value)\n",
    "        \n",
    "        opener = urllib.request.build_opener()\n",
    "        opener.addheaders = [('User-agent', 'Mozilla/5.0')]\n",
    "        urllib.request.install_opener(opener)\n",
    "        urllib.request.urlretrieve(url, health_fac_file_path)\n",
    "\n",
    "        print(\"Download of \" + health_fac_file_name + \" completed\")\n",
    "        \n",
    "        with ZipFile(health_fac_file_path, 'r') as zip_ref:\n",
    "            # Extract all the contents of zip file\n",
    "            zip_ref.extractall(os.path.join(country_list.value, \"Health_facilities\"))\n",
    "            \n",
    "    except HTTPError as error:\n",
    "        print(error)"
   ]
  },
  {
   "cell_type": "markdown",
   "metadata": {},
   "source": [
    "#### Filter health facilities and fill out address information"
   ]
  },
  {
   "cell_type": "markdown",
   "metadata": {},
   "source": [
    "Let's begin with importing required dataset. We can use the <i>Geopandas</i> library to read the health facilities shapefile."
   ]
  },
  {
   "cell_type": "code",
   "execution_count": 4,
   "metadata": {},
   "outputs": [],
   "source": [
    "health_nodes_file_path = os.path.join(country_list.value, \"Health_facilities\", \"{}-node.shp\".format(country_list.value))\n",
    "health_nodes = gpd.read_file(health_nodes_file_path)"
   ]
  },
  {
   "cell_type": "markdown",
   "metadata": {},
   "source": [
    "Now we are able to see for the first time how our dataset looks like. Let's inspect first 5 rows."
   ]
  },
  {
   "cell_type": "code",
   "execution_count": 5,
   "metadata": {},
   "outputs": [
    {
     "data": {
      "text/html": [
       "<div>\n",
       "<style scoped>\n",
       "    .dataframe tbody tr th:only-of-type {\n",
       "        vertical-align: middle;\n",
       "    }\n",
       "\n",
       "    .dataframe tbody tr th {\n",
       "        vertical-align: top;\n",
       "    }\n",
       "\n",
       "    .dataframe thead th {\n",
       "        text-align: right;\n",
       "    }\n",
       "</style>\n",
       "<table border=\"1\" class=\"dataframe\">\n",
       "  <thead>\n",
       "    <tr style=\"text-align: right;\">\n",
       "      <th></th>\n",
       "      <th>osm_id</th>\n",
       "      <th>amenity</th>\n",
       "      <th>healthcare</th>\n",
       "      <th>name</th>\n",
       "      <th>operator</th>\n",
       "      <th>source</th>\n",
       "      <th>speciality</th>\n",
       "      <th>operator_ty</th>\n",
       "      <th>contact_num</th>\n",
       "      <th>operational</th>\n",
       "      <th>...</th>\n",
       "      <th>url</th>\n",
       "      <th>addr_housen</th>\n",
       "      <th>addr_street</th>\n",
       "      <th>addr_postco</th>\n",
       "      <th>addr_city</th>\n",
       "      <th>changeset_i</th>\n",
       "      <th>changeset_v</th>\n",
       "      <th>changeset_t</th>\n",
       "      <th>changeset_u</th>\n",
       "      <th>geometry</th>\n",
       "    </tr>\n",
       "  </thead>\n",
       "  <tbody>\n",
       "    <tr>\n",
       "      <th>0</th>\n",
       "      <td>1482030011</td>\n",
       "      <td>pharmacy</td>\n",
       "      <td>None</td>\n",
       "      <td>Farmatodo</td>\n",
       "      <td>None</td>\n",
       "      <td>None</td>\n",
       "      <td>None</td>\n",
       "      <td>None</td>\n",
       "      <td>None</td>\n",
       "      <td>None</td>\n",
       "      <td>...</td>\n",
       "      <td>None</td>\n",
       "      <td>None</td>\n",
       "      <td>None</td>\n",
       "      <td>None</td>\n",
       "      <td>None</td>\n",
       "      <td>9665341</td>\n",
       "      <td>1</td>\n",
       "      <td>2011-10-27 03:41:15</td>\n",
       "      <td>jCGd1983</td>\n",
       "      <td>POINT (-71.64681 10.55716)</td>\n",
       "    </tr>\n",
       "    <tr>\n",
       "      <th>1</th>\n",
       "      <td>1482020270</td>\n",
       "      <td>pharmacy</td>\n",
       "      <td>None</td>\n",
       "      <td>Farmacia La Social</td>\n",
       "      <td>None</td>\n",
       "      <td>None</td>\n",
       "      <td>None</td>\n",
       "      <td>None</td>\n",
       "      <td>None</td>\n",
       "      <td>None</td>\n",
       "      <td>...</td>\n",
       "      <td>None</td>\n",
       "      <td>None</td>\n",
       "      <td>None</td>\n",
       "      <td>None</td>\n",
       "      <td>None</td>\n",
       "      <td>76238405</td>\n",
       "      <td>3</td>\n",
       "      <td>2019-10-26 09:22:18</td>\n",
       "      <td>Eliomarnm</td>\n",
       "      <td>POINT (-71.63249 10.57539)</td>\n",
       "    </tr>\n",
       "    <tr>\n",
       "      <th>2</th>\n",
       "      <td>1500082407</td>\n",
       "      <td>pharmacy</td>\n",
       "      <td>None</td>\n",
       "      <td>Farmacia 24 Horas</td>\n",
       "      <td>None</td>\n",
       "      <td>None</td>\n",
       "      <td>None</td>\n",
       "      <td>None</td>\n",
       "      <td>None</td>\n",
       "      <td>None</td>\n",
       "      <td>...</td>\n",
       "      <td>None</td>\n",
       "      <td>None</td>\n",
       "      <td>None</td>\n",
       "      <td>None</td>\n",
       "      <td>None</td>\n",
       "      <td>31066024</td>\n",
       "      <td>2</td>\n",
       "      <td>2015-05-12 20:31:32</td>\n",
       "      <td>Arquitectónico</td>\n",
       "      <td>POINT (-71.14639 8.59236)</td>\n",
       "    </tr>\n",
       "    <tr>\n",
       "      <th>3</th>\n",
       "      <td>1500875045</td>\n",
       "      <td>pharmacy</td>\n",
       "      <td>None</td>\n",
       "      <td>Farmacia Yamilet</td>\n",
       "      <td>None</td>\n",
       "      <td>None</td>\n",
       "      <td>None</td>\n",
       "      <td>None</td>\n",
       "      <td>None</td>\n",
       "      <td>None</td>\n",
       "      <td>...</td>\n",
       "      <td>None</td>\n",
       "      <td>None</td>\n",
       "      <td>Calle 9</td>\n",
       "      <td>4147</td>\n",
       "      <td>Judibana</td>\n",
       "      <td>47643546</td>\n",
       "      <td>2</td>\n",
       "      <td>2017-04-11 02:25:51</td>\n",
       "      <td>rirausquin</td>\n",
       "      <td>POINT (-70.18066 11.75917)</td>\n",
       "    </tr>\n",
       "    <tr>\n",
       "      <th>4</th>\n",
       "      <td>1502246171</td>\n",
       "      <td>pharmacy</td>\n",
       "      <td>None</td>\n",
       "      <td>Centro Medico Cagua</td>\n",
       "      <td>None</td>\n",
       "      <td>None</td>\n",
       "      <td>None</td>\n",
       "      <td>None</td>\n",
       "      <td>None</td>\n",
       "      <td>None</td>\n",
       "      <td>...</td>\n",
       "      <td>None</td>\n",
       "      <td>None</td>\n",
       "      <td>None</td>\n",
       "      <td>None</td>\n",
       "      <td>None</td>\n",
       "      <td>9820062</td>\n",
       "      <td>1</td>\n",
       "      <td>2011-11-13 22:34:47</td>\n",
       "      <td>Rafael Pernia</td>\n",
       "      <td>POINT (-67.45612 10.18978)</td>\n",
       "    </tr>\n",
       "  </tbody>\n",
       "</table>\n",
       "<p>5 rows × 32 columns</p>\n",
       "</div>"
      ],
      "text/plain": [
       "       osm_id   amenity healthcare                 name operator source  \\\n",
       "0  1482030011  pharmacy       None            Farmatodo     None   None   \n",
       "1  1482020270  pharmacy       None   Farmacia La Social     None   None   \n",
       "2  1500082407  pharmacy       None    Farmacia 24 Horas     None   None   \n",
       "3  1500875045  pharmacy       None     Farmacia Yamilet     None   None   \n",
       "4  1502246171  pharmacy       None  Centro Medico Cagua     None   None   \n",
       "\n",
       "  speciality operator_ty contact_num operational  ...   url addr_housen  \\\n",
       "0       None        None        None        None  ...  None        None   \n",
       "1       None        None        None        None  ...  None        None   \n",
       "2       None        None        None        None  ...  None        None   \n",
       "3       None        None        None        None  ...  None        None   \n",
       "4       None        None        None        None  ...  None        None   \n",
       "\n",
       "  addr_street addr_postco addr_city changeset_i changeset_v  \\\n",
       "0        None        None      None     9665341           1   \n",
       "1        None        None      None    76238405           3   \n",
       "2        None        None      None    31066024           2   \n",
       "3     Calle 9        4147  Judibana    47643546           2   \n",
       "4        None        None      None     9820062           1   \n",
       "\n",
       "           changeset_t     changeset_u                    geometry  \n",
       "0  2011-10-27 03:41:15        jCGd1983  POINT (-71.64681 10.55716)  \n",
       "1  2019-10-26 09:22:18       Eliomarnm  POINT (-71.63249 10.57539)  \n",
       "2  2015-05-12 20:31:32  Arquitectónico   POINT (-71.14639 8.59236)  \n",
       "3  2017-04-11 02:25:51      rirausquin  POINT (-70.18066 11.75917)  \n",
       "4  2011-11-13 22:34:47   Rafael Pernia  POINT (-67.45612 10.18978)  \n",
       "\n",
       "[5 rows x 32 columns]"
      ]
     },
     "execution_count": 5,
     "metadata": {},
     "output_type": "execute_result"
    }
   ],
   "source": [
    "health_nodes.head()"
   ]
  },
  {
   "cell_type": "markdown",
   "metadata": {},
   "source": [
    "As we can see, there is a lot of missing information in <i>addr_street</i> column. Thus, we will use the <i>Geopy</i> library to find the address corresponding to health facility coordinates. The <i>Geopy.Nominatim</i> is a geocoder for <i>OpenStreetMap</i> data, it is free, but provides low request limit, that's why we have to use the <i>geopy.extra.rate_limit.RateLimiter</i> method to handle error responses and add delays when needed."
   ]
  },
  {
   "cell_type": "code",
   "execution_count": 6,
   "metadata": {},
   "outputs": [
    {
     "name": "stdout",
     "output_type": "stream",
     "text": [
      "Added 1222 new addresses\n"
     ]
    }
   ],
   "source": [
    "geolocator = Nominatim(user_agent=\"health_facility_address\")\n",
    "geocode = RateLimiter(geolocator.reverse, min_delay_seconds=1)\n",
    "\n",
    "counter = 0\n",
    "\n",
    "for idx, row in health_nodes.iterrows():\n",
    "    lat, long = row.geometry.y, row.geometry.x\n",
    "    coord = \"{}, {}\".format(lat, long)\n",
    "    address = row.addr_street\n",
    "    if not address:\n",
    "        health_nodes.loc[idx, 'addr_street'] = geocode(coord).address\n",
    "        counter += 1\n",
    "        \n",
    "print('Added {} new addresses'.format(counter))"
   ]
  },
  {
   "cell_type": "markdown",
   "metadata": {},
   "source": [
    "Now we can display the <i>addr_street</i> column with some new addresses added."
   ]
  },
  {
   "cell_type": "code",
   "execution_count": 7,
   "metadata": {},
   "outputs": [
    {
     "data": {
      "text/plain": [
       "0    Farmatodo, Avenida 48, San Francisco, Parroqui...\n",
       "1    Farmacia La Social, Av 18, San Francisco, Parr...\n",
       "2    Farmacia 24 Horas, Paseo de La Feria, Mérida, ...\n",
       "3                                              Calle 9\n",
       "4    Centro Médico Cagua, Avenida 02 Bermúdez, Sant...\n",
       "Name: addr_street, dtype: object"
      ]
     },
     "execution_count": 7,
     "metadata": {},
     "output_type": "execute_result"
    }
   ],
   "source": [
    "health_nodes.addr_street.head()"
   ]
  },
  {
   "cell_type": "markdown",
   "metadata": {},
   "source": [
    "Save the data frame with new addresses."
   ]
  },
  {
   "cell_type": "code",
   "execution_count": 9,
   "metadata": {},
   "outputs": [],
   "source": [
    "new_health_file_path = os.path.join(country_list.value, \"Health_facilities\", \"{}-node.gpkg\".format(country_list.value))\n",
    "health_nodes.to_file(driver='GPKG', filename=new_health_file_path)"
   ]
  },
  {
   "cell_type": "markdown",
   "metadata": {},
   "source": [
    "By using <i>.crs</i> attribute we can check the Coordinate Reference System (CRS) of a dataset."
   ]
  },
  {
   "cell_type": "code",
   "execution_count": 9,
   "metadata": {},
   "outputs": [
    {
     "data": {
      "text/plain": [
       "<Geographic 2D CRS: EPSG:4326>\n",
       "Name: WGS 84\n",
       "Axis Info [ellipsoidal]:\n",
       "- Lat[north]: Geodetic latitude (degree)\n",
       "- Lon[east]: Geodetic longitude (degree)\n",
       "Area of Use:\n",
       "- name: World\n",
       "- bounds: (-180.0, -90.0, 180.0, 90.0)\n",
       "Datum: World Geodetic System 1984\n",
       "- Ellipsoid: WGS 84\n",
       "- Prime Meridian: Greenwich"
      ]
     },
     "execution_count": 9,
     "metadata": {},
     "output_type": "execute_result"
    }
   ],
   "source": [
    "health_nodes.crs"
   ]
  },
  {
   "cell_type": "markdown",
   "metadata": {},
   "source": [
    "Now we can plot the health facilities dataset to visualize the spatial distribution of data points."
   ]
  },
  {
   "cell_type": "code",
   "execution_count": 10,
   "metadata": {},
   "outputs": [
    {
     "data": {
      "text/plain": [
       "<matplotlib.axes._subplots.AxesSubplot at 0x7ff115817590>"
      ]
     },
     "execution_count": 10,
     "metadata": {},
     "output_type": "execute_result"
    },
    {
     "data": {
      "image/png": "[encoded data removed]",
      "text/plain": [
       "<Figure size 576x576 with 1 Axes>"
      ]
     },
     "metadata": {
      "needs_background": "light"
     },
     "output_type": "display_data"
    }
   ],
   "source": [
    "health_nodes.plot(figsize=(8,8))"
   ]
  },
  {
   "cell_type": "markdown",
   "metadata": {},
   "source": [
    "The following method counts the number of times given <i>amenity</i> type occurred in the dataset."
   ]
  },
  {
   "cell_type": "code",
   "execution_count": 11,
   "metadata": {},
   "outputs": [
    {
     "data": {
      "text/plain": [
       "pharmacy      1091\n",
       "hospital       411\n",
       "clinic         232\n",
       "doctors        153\n",
       "dentist         24\n",
       "laboratory       1\n",
       "Name: amenity, dtype: int64"
      ]
     },
     "execution_count": 11,
     "metadata": {},
     "output_type": "execute_result"
    }
   ],
   "source": [
    "health_nodes.amenity.value_counts()"
   ]
  },
  {
   "cell_type": "markdown",
   "metadata": {},
   "source": [
    "The above tally shows the distribution of the types of health facilities. Usually, we will treat the <i>hospital</i> as the most important health care facility and remove other types of facilities that are located in the neighborhood. In that case, the isoline of health care access will be calculated for our primary facility - <i>hospital</i>. If the number of hospitals is the order of magnitude lower than any other type of facility, then there will be a situation when there is no <i>hospital</i> at given area and health care access isoline will be computed with respect to another less important facility, for example, <i>pharmacy</i>. "
   ]
  },
  {
   "cell_type": "markdown",
   "metadata": {},
   "source": [
    "If you would like to retain only the <i>hospitals</i> for further analysis, then uncomment the following code, otherwise, skip it and go to the next cells."
   ]
  },
  {
   "cell_type": "code",
   "execution_count": 7,
   "metadata": {},
   "outputs": [],
   "source": [
    "# filtered_df = health_nodes.loc[health_nodes.amenity == 'hospital']"
   ]
  },
  {
   "cell_type": "markdown",
   "metadata": {},
   "source": [
    "Below we will define a function that returns boolean value (True or False) depending on whether two health facilities lie within a specific radius from each other."
   ]
  },
  {
   "cell_type": "code",
   "execution_count": 21,
   "metadata": {},
   "outputs": [],
   "source": [
    "def within_distance(point, data_frame, distance, to_itself=False):\n",
    "    \"\"\"Returns True if 'point' lies within a distance of any data point in 'data_frame', otherwise returns False.\n",
    "    \n",
    "    Parameters\n",
    "    ----------\n",
    "    point: shapely.geometry.point.Point\n",
    "        Shapely point object representing the health facility.\n",
    "    data_frame: geopandas.geodataframe.GeoDataFrame\n",
    "        Geopandas Data Frame object of health facilities (must contain 'geometry' column).\n",
    "    distance: int\n",
    "        Distance in meters.\n",
    "    to_itself: boolean, optional (default=False)\n",
    "        whether the distance condition is checked also for point itself - if 'point' is also included in 'data_frame', \n",
    "        beacause we don't want to compare 'point' to itself, then the counter must be > 1 to return True.\n",
    "        \n",
    "    Returns\n",
    "    -------\n",
    "    boolean: \n",
    "        True or False depending on whether two health facilities lie within a specific distance from each other.\n",
    "    \n",
    "    Raises\n",
    "    ------\n",
    "    AssertionError \n",
    "        If data_frame doesn't contain 'geometry' column.\n",
    "        \n",
    "    \"\"\"\n",
    "    \n",
    "    assert 'geometry' in data_frame.columns, \"Data Frame doesn't contain 'geometry' column.\"\n",
    "    \n",
    "    # Create circle buffer from one of the points\n",
    "    circle_buffer = point.geometry.buffer(distance)\n",
    "    counter = 0\n",
    "    \n",
    "    for row in data_frame.itertuples():\n",
    "        # Check if the other point lies within circle_buffer\n",
    "        if row.geometry.within(circle_buffer):\n",
    "            if to_itself:\n",
    "                counter += 1\n",
    "                if counter == 2:\n",
    "                    return True\n",
    "            else:\n",
    "                return True\n",
    "        else:\n",
    "            continue\n",
    "            \n",
    "    return False"
   ]
  },
  {
   "cell_type": "markdown",
   "metadata": {},
   "source": [
    "In order to reduce density and number of health facilities in the dataset (simultaneously decreasing the number of required isolines), we are going to implement the filtering function that follows the succeeding steps:\n",
    "1. Filter out primary facilities that are within distance to other primary facilities.\n",
    "2. Filter out other not-primary facilities that are within distance to primary facilities (from step 1).\n",
    "3. Filter out not-primary facilities that are within distance to other not-primary facilities (from step 2).\n",
    " - Filter out close facilities of the same type.\n",
    " - Filter out close facilities of the other type."
   ]
  },
  {
   "cell_type": "code",
   "execution_count": 22,
   "metadata": {},
   "outputs": [],
   "source": [
    "def filter_facilities_within_distance(data_frame, distance, primary_field=\"hospital\"):\n",
    "    \"\"\"Filters out health facilities from 'data_frame' that are within a certain 'distance' to other health facilities,\n",
    "    keeping priority to being retained by the facility specified by the 'primary_field' parameter.\n",
    "    \n",
    "    Parameters\n",
    "    ----------\n",
    "    data_frame: geopandas.geodataframe.GeoDataFrame\n",
    "        Geopandas Data Frame object of health facilities (must contain 'geometry', 'amenity' and 'healthcare' columns).\n",
    "    distance: int\n",
    "        Distance in meters.\n",
    "    primary_field: str, optional (default='hospital')\n",
    "        Type of the primary health facility, that has the precedence over other facilities to be retained in the dataset.\n",
    "    \n",
    "    Returns\n",
    "    -------\n",
    "    data_frame: geopandas.geodataframe.GeoDataFrame\n",
    "        Geopandas Data Frame object of filtered health facilities.\n",
    "    \n",
    "    Raises\n",
    "    ------\n",
    "    AssertionError \n",
    "        If data_frame doesn't contain even one of the following columns: 'geometry', 'amenity', 'healthcare'. \n",
    "        \n",
    "    \"\"\"\n",
    "    \n",
    "    # Check whether DF contains indispensable columns\n",
    "    df_columns = list(data_frame.columns)\n",
    "    assert \"amenity\" in df_columns, \"Data Frame doesn't contain 'amenity' column.\"\n",
    "    assert \"healthcare\" in df_columns, \"Data Frame doesn't contain 'healthcare' column.\"\n",
    "    assert \"geometry\" in df_columns, \"Data Frame doesn't contain 'geometry' column.\"\n",
    "    \n",
    "    # Find the indexes of NaN amenity values\n",
    "    isNaN = data_frame.loc[:, \"amenity\"].isna()\n",
    "    na_idx = data_frame.loc[isNaN].index\n",
    "    \n",
    "    # Replace NaN amenity values with healthcare values\n",
    "    data_frame.loc[na_idx, \"amenity\"] = data_frame.loc[na_idx, \"healthcare\"]\n",
    "    \n",
    "    # Drop any remaining rows with NaN amenity value\n",
    "    isNaN = data_frame.loc[:, \"amenity\"].isna()\n",
    "    na_idx = data_frame.loc[isNaN].index\n",
    "    data_frame.drop(na_idx, inplace=True)\n",
    "    \n",
    "    # Take the list of all facilities types\n",
    "    facility_types = list(data_frame.loc[:, \"amenity\"].unique())\n",
    "    \n",
    "    # Separate facilities and project resulting DFs to WGS 84 / Pseudo-Mercator (meters)\n",
    "    primary_field_df = data_frame.loc[data_frame.amenity == primary_field].copy().to_crs(\"EPSG:4978\")\n",
    "    rest_df = data_frame.loc[data_frame.amenity != primary_field].copy().to_crs(\"EPSG:4978\")\n",
    "    \n",
    "    # Filter out primary facilities that are within distance to other primary facilities\n",
    "    primary_field_df[\"within_{}m\".format(distance)] = primary_field_df.apply(within_distance,\n",
    "                                                                             data_frame=primary_field_df,\n",
    "                                                                             distance=distance,\n",
    "                                                                             to_itself=True,\n",
    "                                                                             axis=1)\n",
    "    \n",
    "    primary_to_remove_idx = primary_field_df.loc[primary_field_df[\"within_{}m\".format(distance)] == True].index\n",
    "    \n",
    "    # Drop filtered facilities\n",
    "    data_frame.drop(primary_to_remove_idx, inplace=True)\n",
    "    primary_field_df.drop(primary_to_remove_idx, inplace=True)\n",
    "    \n",
    "    # Filter out other facilities that are within distance to primary facilities\n",
    "    rest_df[\"within_{}m\".format(distance)] = rest_df.apply(within_distance,\n",
    "                                                           data_frame=primary_field_df,\n",
    "                                                           distance=distance,\n",
    "                                                           axis=1)\n",
    "    \n",
    "    rest_to_remove_idx = rest_df.loc[rest_df[\"within_{}m\".format(distance)] == True].index\n",
    "    \n",
    "    # Drop filtered facilities\n",
    "    data_frame.drop(rest_to_remove_idx, inplace=True)\n",
    "    rest_df.drop(rest_to_remove_idx, inplace=True)\n",
    "    \n",
    "    # Filter out not-primary facilities that are within distance to other not-primary facilities\n",
    "    facility_types.remove(primary_field)\n",
    "    \n",
    "    for facility in facility_types:\n",
    "        facility_df = rest_df.loc[rest_df.amenity == facility].copy()\n",
    "        \n",
    "        #  Filter out close facilities of the same type\n",
    "        facility_df[\"within_{}m\".format(distance)] = facility_df.apply(within_distance,\n",
    "                                                                       data_frame=facility_df,\n",
    "                                                                       distance=distance,\n",
    "                                                                       to_itself=True,\n",
    "                                                                       axis=1)\n",
    "        \n",
    "        to_remove_idx = facility_df.loc[facility_df[\"within_{}m\".format(distance)] == True].index\n",
    "        \n",
    "        data_frame.drop(to_remove_idx, inplace=True)\n",
    "        rest_df.drop(to_remove_idx, inplace=True)\n",
    "        facility_df.drop(to_remove_idx, inplace=True)\n",
    "        facility_df.drop(columns=\"within_{}m\".format(distance), inplace=True)\n",
    "        \n",
    "        not_facility_df = rest_df.loc[rest_df.amenity != facility].copy()\n",
    "        \n",
    "        #  Filter out close facilities of the other type\n",
    "        facility_df[\"within_{}m\".format(distance)] = facility_df.apply(within_distance,\n",
    "                                                                       data_frame=not_facility_df,\n",
    "                                                                       distance=distance,\n",
    "                                                                       axis=1)\n",
    "    \n",
    "        to_remove_idx = facility_df.loc[facility_df[\"within_{}m\".format(distance)] == True].index\n",
    "        \n",
    "        data_frame.drop(to_remove_idx, inplace=True)\n",
    "        \n",
    "        del facility_df\n",
    "        del not_facility_df\n",
    "\n",
    "    return data_frame        \n",
    "        "
   ]
  },
  {
   "cell_type": "markdown",
   "metadata": {},
   "source": [
    "Below we will run the filtering function and assign the resulting Data Frame to a new variable."
   ]
  },
  {
   "cell_type": "code",
   "execution_count": 23,
   "metadata": {},
   "outputs": [],
   "source": [
    "filtered_df = filter_facilities_within_distance(health_nodes, distance=2000, primary_field=\"hospital\")"
   ]
  },
  {
   "cell_type": "markdown",
   "metadata": {},
   "source": [
    "Now we can check how the distribution of the types of health facilities looks like in a filtered Data Frame."
   ]
  },
  {
   "cell_type": "code",
   "execution_count": 24,
   "metadata": {},
   "outputs": [
    {
     "data": {
      "text/plain": [
       "hospital       107\n",
       "pharmacy        29\n",
       "clinic          16\n",
       "doctors          8\n",
       "laboratory       5\n",
       "dentist          1\n",
       "doctor           1\n",
       "alternative      1\n",
       "Name: amenity, dtype: int64"
      ]
     },
     "execution_count": 24,
     "metadata": {},
     "output_type": "execute_result"
    }
   ],
   "source": [
    "filtered_df.amenity.value_counts()"
   ]
  },
  {
   "cell_type": "markdown",
   "metadata": {},
   "source": [
    "The following plot shows the spatial distribution of health facilities in filtered Data Frame. As we can see, there are fewer data points that overlap themselves (it can be much better discernable at higher zoom levels)."
   ]
  },
  {
   "cell_type": "code",
   "execution_count": 13,
   "metadata": {},
   "outputs": [
    {
     "data": {
      "text/plain": [
       "<matplotlib.axes._subplots.AxesSubplot at 0x7fea20a2b690>"
      ]
     },
     "execution_count": 13,
     "metadata": {},
     "output_type": "execute_result"
    },
    {
     "data": {
      "image/png": "[encoded data removed]",
      "text/plain": [
       "<Figure size 576x576 with 1 Axes>"
      ]
     },
     "metadata": {
      "needs_background": "light"
     },
     "output_type": "display_data"
    }
   ],
   "source": [
    "filtered_df.plot(figsize=(8,8))"
   ]
  },
  {
   "cell_type": "markdown",
   "metadata": {},
   "source": [
    "The resulting Data Frame with filtered health care facilities subsequently will be saved on a disk as a Geopackage file."
   ]
  },
  {
   "cell_type": "code",
   "execution_count": 25,
   "metadata": {},
   "outputs": [],
   "source": [
    "filtered_file_path = os.path.join(country_list.value, \"Health_facilities\", \"{}-filtered-node.gpkg\".format(country_list.value))\n",
    "filtered_df.to_file(driver='GPKG', filename=filtered_file_path)"
   ]
  },
  {
   "cell_type": "markdown",
   "metadata": {},
   "source": [
    "#### Population data"
   ]
  },
  {
   "cell_type": "markdown",
   "metadata": {},
   "source": [
    "We will download the Global population data from the <i>European Commission Global Human Settlement</i> website as the spatial raster that depicts the distribution and density of the population expressed as the number of people per cell. The technical details about the data are as follows:\n",
    "- Coordinate System: World Mollweide (EPSG: 54009)\n",
    "- Population density for epoch 2015\n",
    "- 250 m resolution\n",
    "- The grids are provided as GeoTIFF file"
   ]
  },
  {
   "cell_type": "code",
   "execution_count": 18,
   "metadata": {},
   "outputs": [],
   "source": [
    "if not os.path.exists(\"World_population_data\"):\n",
    "    os.mkdir(\"World_population_data\")\n",
    "if not os.path.exists(\"World_population_data/world_population_raster.zip\"):\n",
    "    try:\n",
    "        # Download population data from ghsl.jrc.ec.europa.eu\n",
    "        url = \"https://cidportal.jrc.ec.europa.eu/ftp/jrc-opendata/GHSL/GHS_POP_MT_GLOBE_R2019A/\"\\\n",
    "        \"GHS_POP_E2015_GLOBE_R2019A_54009_250/V1-0/GHS_POP_E2015_GLOBE_R2019A_54009_250_V1_0.zip\"\n",
    "        urllib.request.urlretrieve(url, \"World_population_data/world_population_raster.zip\")\n",
    "\n",
    "        with ZipFile(\"World_population_data/world_population_raster.zip\", 'r') as zip_ref:\n",
    "           # Extract all the contents of zip file\n",
    "           zip_ref.extractall(os.path.join(\"World_population_data\"))\n",
    "            \n",
    "        print(\"Download of population data completed.\")\n",
    "            \n",
    "    except HTTPError as error:\n",
    "        print(error)"
   ]
  },
  {
   "cell_type": "markdown",
   "metadata": {},
   "source": [
    "The Global population data raster has been saved to <i>World_population_data/</i> directory."
   ]
  },
  {
   "cell_type": "code",
   "execution_count": 11,
   "metadata": {},
   "outputs": [],
   "source": [
    "world_pop_file_path = \"\"\n",
    "for file in os.listdir(\"World_population_data\"):\n",
    "    if file.endswith(\".tif\"):\n",
    "        world_pop_file_path = os.path.join(\"World_population_data\", file)"
   ]
  },
  {
   "cell_type": "markdown",
   "metadata": {},
   "source": [
    "Below we will use the <i>rasterio</i> library to open the GeoTIFF file and then clip it to the bounding box corresponding to the country of interest."
   ]
  },
  {
   "cell_type": "code",
   "execution_count": 12,
   "metadata": {},
   "outputs": [],
   "source": [
    "world_pop = rasterio.open(world_pop_file_path)"
   ]
  },
  {
   "cell_type": "markdown",
   "metadata": {},
   "source": [
    "We will begin with checking the Coordinate Reference System."
   ]
  },
  {
   "cell_type": "code",
   "execution_count": 13,
   "metadata": {},
   "outputs": [
    {
     "data": {
      "text/plain": [
       "{'proj': 'moll',\n",
       " 'lon_0': 0,\n",
       " 'x_0': 0,\n",
       " 'y_0': 0,\n",
       " 'datum': 'WGS84',\n",
       " 'units': 'm',\n",
       " 'no_defs': True}"
      ]
     },
     "execution_count": 13,
     "metadata": {},
     "output_type": "execute_result"
    }
   ],
   "source": [
    "world_pop.crs.data"
   ]
  },
  {
   "cell_type": "markdown",
   "metadata": {},
   "source": [
    "We have to open the file containing administrative boundaries in order to create a bounding box of area of interest."
   ]
  },
  {
   "cell_type": "code",
   "execution_count": 22,
   "metadata": {},
   "outputs": [],
   "source": [
    "adm_bound_file_name = \"gadm36_\" + country_alpha3_code + \".gpkg\"\n",
    "adm_bound_file_path = os.path.join(country_list.value, \"Administrative_boundaries\", adm_bound_file_name)\n",
    "\n",
    "adm_boundaries = gpd.read_file(adm_bound_file_path)"
   ]
  },
  {
   "cell_type": "code",
   "execution_count": 23,
   "metadata": {},
   "outputs": [
    {
     "data": {
      "text/plain": [
       "<Geographic 2D CRS: EPSG:4326>\n",
       "Name: WGS 84\n",
       "Axis Info [ellipsoidal]:\n",
       "- Lat[north]: Geodetic latitude (degree)\n",
       "- Lon[east]: Geodetic longitude (degree)\n",
       "Area of Use:\n",
       "- name: World\n",
       "- bounds: (-180.0, -90.0, 180.0, 90.0)\n",
       "Datum: World Geodetic System 1984\n",
       "- Ellipsoid: WGS 84\n",
       "- Prime Meridian: Greenwich"
      ]
     },
     "execution_count": 23,
     "metadata": {},
     "output_type": "execute_result"
    }
   ],
   "source": [
    "adm_boundaries.crs"
   ]
  },
  {
   "cell_type": "markdown",
   "metadata": {},
   "source": [
    "To get the bounding box we can use the <i>.total_bounds</i> attribute of <i>geopandas</i> Data Frame."
   ]
  },
  {
   "cell_type": "code",
   "execution_count": 24,
   "metadata": {},
   "outputs": [],
   "source": [
    "minx, miny, maxx, maxy = adm_boundaries.total_bounds"
   ]
  },
  {
   "cell_type": "markdown",
   "metadata": {},
   "source": [
    "Next, we need to create a bounding box with <i>shapely</i> library."
   ]
  },
  {
   "cell_type": "code",
   "execution_count": 25,
   "metadata": {},
   "outputs": [],
   "source": [
    "bbox = box(minx, miny, maxx, maxy)"
   ]
  },
  {
   "cell_type": "markdown",
   "metadata": {},
   "source": [
    "Then, the <i>shapely</i> bounding box object should be inserted into a GeoDataFrame."
   ]
  },
  {
   "cell_type": "code",
   "execution_count": 26,
   "metadata": {},
   "outputs": [],
   "source": [
    "bbox = gpd.GeoDataFrame({'geometry': bbox}, index=[0], crs=adm_boundaries.crs)"
   ]
  },
  {
   "cell_type": "markdown",
   "metadata": {},
   "source": [
    "The bounding box must be reprojected into the same coordinate system as the raster data."
   ]
  },
  {
   "cell_type": "code",
   "execution_count": 27,
   "metadata": {},
   "outputs": [],
   "source": [
    "bbox = bbox.to_crs(crs=world_pop.crs.data)"
   ]
  },
  {
   "cell_type": "markdown",
   "metadata": {},
   "source": [
    "As expected the bounding box is now projected using the <i>Mollweide</i> coordinate system."
   ]
  },
  {
   "cell_type": "code",
   "execution_count": 28,
   "metadata": {},
   "outputs": [
    {
     "data": {
      "text/plain": [
       "<Projected CRS: +proj=moll +lon_0=0 +x_0=0 +y_0=0 +datum=WGS84 +un ...>\n",
       "Name: unknown\n",
       "Axis Info [cartesian]:\n",
       "- E[east]: Easting (metre)\n",
       "- N[north]: Northing (metre)\n",
       "Area of Use:\n",
       "- undefined\n",
       "Coordinate Operation:\n",
       "- name: unknown\n",
       "- method: Mollweide\n",
       "Datum: World Geodetic System 1984\n",
       "- Ellipsoid: WGS 84\n",
       "- Prime Meridian: Greenwich"
      ]
     },
     "execution_count": 28,
     "metadata": {},
     "output_type": "execute_result"
    }
   ],
   "source": [
    "bbox.crs"
   ]
  },
  {
   "cell_type": "markdown",
   "metadata": {},
   "source": [
    "Next we need to get the coordinates of the bounding box geometry in such a format that <i>rasterio</i> wants them. This can be achieved with the following function."
   ]
  },
  {
   "cell_type": "code",
   "execution_count": 29,
   "metadata": {},
   "outputs": [],
   "source": [
    "def getFeatures(gdf):\n",
    "    \"\"\"Function to parse features from GeoDataFrame in such a manner that rasterio wants them\"\"\"\n",
    "    import json\n",
    "    return [json.loads(gdf.to_json())['features'][0]['geometry']]"
   ]
  },
  {
   "cell_type": "code",
   "execution_count": 30,
   "metadata": {},
   "outputs": [],
   "source": [
    "bbox_coords = getFeatures(bbox)"
   ]
  },
  {
   "cell_type": "markdown",
   "metadata": {},
   "source": [
    "Using the <i>mask</i> function from <i>rasterio</i> we can clip the raster with the polygon specified by <i>bbox_coords</i> variable."
   ]
  },
  {
   "cell_type": "code",
   "execution_count": 31,
   "metadata": {},
   "outputs": [],
   "source": [
    "out_img, out_transform = mask(dataset=world_pop, shapes=bbox_coords, crop=True)"
   ]
  },
  {
   "cell_type": "markdown",
   "metadata": {},
   "source": [
    "Next we have to update the metadata of the clipped raster."
   ]
  },
  {
   "cell_type": "code",
   "execution_count": 32,
   "metadata": {},
   "outputs": [],
   "source": [
    "out_meta = world_pop.meta.copy()"
   ]
  },
  {
   "cell_type": "code",
   "execution_count": 33,
   "metadata": {},
   "outputs": [],
   "source": [
    "# World Mollweide projection, EPSG:54009\n",
    "epsg_code = 54009\n",
    "\n",
    "out_meta.update({\"driver\": \"GTiff\",\n",
    "                \"height\": out_img.shape[1],\n",
    "                \"width\": out_img.shape[2],\n",
    "                \"transform\": out_transform,\n",
    "                \"crs\": pycrs.parse.from_epsg_code(epsg_code).to_proj4()})"
   ]
  },
  {
   "cell_type": "markdown",
   "metadata": {},
   "source": [
    "Save the clipped raster to disk."
   ]
  },
  {
   "cell_type": "code",
   "execution_count": 34,
   "metadata": {},
   "outputs": [],
   "source": [
    "population_raster_path = os.path.join(country_list.value, \"Population\", \"{}-population.tif\".format(country_list.value))"
   ]
  },
  {
   "cell_type": "code",
   "execution_count": 35,
   "metadata": {},
   "outputs": [],
   "source": [
    "with rasterio.open(population_raster_path, \"w\", **out_meta) as dest:\n",
    "    dest.write(out_img)"
   ]
  },
  {
   "cell_type": "markdown",
   "metadata": {},
   "source": [
    "Finally, we can open the population dataset of the country of interest and see for the first time how it looks like."
   ]
  },
  {
   "cell_type": "code",
   "execution_count": 36,
   "metadata": {},
   "outputs": [],
   "source": [
    "population_dataset = rasterio.open(population_raster_path)"
   ]
  },
  {
   "cell_type": "code",
   "execution_count": 37,
   "metadata": {},
   "outputs": [
    {
     "data": {
      "image/png": "[encoded data removed]",
      "text/plain": [
       "<Figure size 432x288 with 1 Axes>"
      ]
     },
     "metadata": {
      "needs_background": "light"
     },
     "output_type": "display_data"
    },
    {
     "data": {
      "text/plain": [
       "<matplotlib.axes._subplots.AxesSubplot at 0x7ff1157d1490>"
      ]
     },
     "execution_count": 37,
     "metadata": {},
     "output_type": "execute_result"
    }
   ],
   "source": [
    "show(population_dataset, cmap=\"viridis\", vmax=0.5)"
   ]
  },
  {
   "cell_type": "markdown",
   "metadata": {},
   "source": [
    "#### Reproject the population raster to EPSG:4326"
   ]
  },
  {
   "cell_type": "markdown",
   "metadata": {},
   "source": [
    "We must ensure that all data that we use in our analysis share the same Coordinate Reference System, thus we have to project the population raster created in the previous step to EPSG:4326. This can be done with <i>GDAL</i> library."
   ]
  },
  {
   "cell_type": "code",
   "execution_count": 38,
   "metadata": {},
   "outputs": [],
   "source": [
    "from osgeo import gdal"
   ]
  },
  {
   "cell_type": "code",
   "execution_count": 40,
   "metadata": {},
   "outputs": [],
   "source": [
    "input_raster = gdal.Open(population_raster_path)"
   ]
  },
  {
   "cell_type": "markdown",
   "metadata": {},
   "source": [
    "Reproject the raster to EPSG:4326 and save it to disk."
   ]
  },
  {
   "cell_type": "code",
   "execution_count": 41,
   "metadata": {},
   "outputs": [
    {
     "data": {
      "text/plain": [
       "<osgeo.gdal.Dataset; proxy of <Swig Object of type 'GDALDatasetShadow *' at 0x7ff10403c480> >"
      ]
     },
     "execution_count": 41,
     "metadata": {},
     "output_type": "execute_result"
    }
   ],
   "source": [
    "reprojected_raster = os.path.join(country_list.value, \"Population\", \"{}-reprj-population.tif\".format(country_list.value))\n",
    "gdal.Warp(reprojected_raster, input_raster, dstSRS='EPSG:4326')"
   ]
  },
  {
   "cell_type": "code",
   "execution_count": 42,
   "metadata": {},
   "outputs": [],
   "source": [
    "reprojected_dataset = rasterio.open(reprojected_raster)"
   ]
  },
  {
   "cell_type": "code",
   "execution_count": 43,
   "metadata": {},
   "outputs": [
    {
     "data": {
      "image/png": "[encoded data removed]",
      "text/plain": [
       "<Figure size 432x288 with 1 Axes>"
      ]
     },
     "metadata": {
      "needs_background": "light"
     },
     "output_type": "display_data"
    },
    {
     "data": {
      "text/plain": [
       "<matplotlib.axes._subplots.AxesSubplot at 0x7ff115763c50>"
      ]
     },
     "execution_count": 43,
     "metadata": {},
     "output_type": "execute_result"
    }
   ],
   "source": [
    "show(reprojected_dataset, cmap=\"viridis\", vmax=0.5)"
   ]
  },
  {
   "cell_type": "markdown",
   "metadata": {},
   "source": [
    "#### OSMNX graph"
   ]
  },
  {
   "cell_type": "markdown",
   "metadata": {},
   "source": [
    "If you intend to use OSMNX library to compute the health access isolines, then you have to firstly create the Graphml object. "
   ]
  },
  {
   "cell_type": "code",
   "execution_count": 4,
   "metadata": {},
   "outputs": [],
   "source": [
    "osm_file_path = \"\"\n",
    "\n",
    "# Provide shapefile path, if convert to OSM format\n",
    "shp_file_path = \"hotosm_ven_roads_lines_shp/hotosm_ven_roads_lines.shp\"\n",
    "\n",
    "# If convert to OSM format, then specify the ogr2osm directory\n",
    "ogr2osm_path = \"//root/ogr2osm\""
   ]
  },
  {
   "cell_type": "markdown",
   "metadata": {},
   "source": [
    "Convert shapefile to OSM format using <i>ogr2osm</i>."
   ]
  },
  {
   "cell_type": "code",
   "execution_count": 7,
   "metadata": {},
   "outputs": [],
   "source": [
    "if shp_file_path:\n",
    "    ogr2osm = os.path.join(ogr2osm_path, \"ogr2osm.py\")\n",
    "    osm_file_path = '{0}/Roads/{0}-roads.osm'.format(country_list.value)\n",
    "    \n",
    "    process = subprocess.run(['python', ogr2osm, shp_file_path, '-o', osm_file_path])\n",
    "    return_code = process.returncode\n",
    "    \n",
    "    if return_code == 0:\n",
    "        print('Conversion ended successfully')\n",
    "    else:\n",
    "        print('Conversion failed')"
   ]
  },
  {
   "cell_type": "markdown",
   "metadata": {},
   "source": [
    "Create Graphml from OSM using <i>ox.graph_from_xml()</i>"
   ]
  },
  {
   "cell_type": "code",
   "execution_count": 3,
   "metadata": {},
   "outputs": [],
   "source": [
    "if osm_file_path:\n",
    "    G = ox.graph_from_xml(osm_file_path, bidirectional=False, simplify=True)  "
   ]
  },
  {
   "cell_type": "markdown",
   "metadata": {},
   "source": [
    "Another way to create the Graphml file is to use <i>ox.graph_from_place()</i> method to download the necessary data from the <i>Overpass API</i> and build the Graphml object based on that data. You can specify the query of the <i>Overpass API</i> to download only the types of roads that meet your criteria. More information about <i>Openstreetmap</i> roads can be found here: https://wiki.openstreetmap.org/wiki/Key:highway"
   ]
  },
  {
   "cell_type": "code",
   "execution_count": 6,
   "metadata": {},
   "outputs": [],
   "source": [
    "if not osm_file_path:\n",
    "    cf = '[\"highway\"~\"motorway|motorway_link|trunk|primary|secondary|tertiary\"]'\n",
    "    G = ox.graph_from_place(country_list.value, network_type='drive', custom_filter=cf)"
   ]
  },
  {
   "cell_type": "markdown",
   "metadata": {},
   "source": [
    "Save the Graphml to disk."
   ]
  },
  {
   "cell_type": "code",
   "execution_count": 7,
   "metadata": {},
   "outputs": [],
   "source": [
    "ox.io.save_graphml(G, \"{0}/Roads/{0}-roads.graphml\".format(country_list.value))"
   ]
  },
  {
   "cell_type": "markdown",
   "metadata": {},
   "source": [
    "#### References"
   ]
  },
  {
   "cell_type": "markdown",
   "metadata": {},
   "source": [
    "* https://gadm.org/\n",
    "* https://healthsites.io/\n",
    "* GHS-POP Population dataset:<br>\n",
    "<u>Dataset</u>: Schiavina, Marcello; Freire, Sergio; MacManus, Kytt (2019):  GHS population grid multitemporal (1975-1990-2000-2015), R2019A. European Commission, Joint Research Centre (JRC) [Dataset] doi:10.2905/0C6B9751-A71F-4062-830B-43C9F432370F PID: http://data.europa.eu/89h/0c6b9751-a71f-4062-830b-43c9f432370f <br>\n",
    "<u>Concept & Methodology</u>: Freire, Sergio; MacManus, Kytt; Pesaresi, Martino; Doxsey-Whitfield, Erin; Mills, Jane (2016): Development of new open and free multi-temporal global population grids at 250 m resolution. Geospatial Data in a Changing World; Association of Geographic Information Laboratories in Europe (AGILE). AGILE 2016."
   ]
  }
 ],
 "metadata": {
  "kernelspec": {
   "display_name": "ox",
   "language": "python",
   "name": "ox"
  },
  "language_info": {
   "codemirror_mode": {
    "name": "ipython",
    "version": 3
   },
   "file_extension": ".py",
   "mimetype": "text/x-python",
   "name": "python",
   "nbconvert_exporter": "python",
   "pygments_lexer": "ipython3",
   "version": "3.7.6"
  }
 },
 "nbformat": 4,
 "nbformat_minor": 4
}
